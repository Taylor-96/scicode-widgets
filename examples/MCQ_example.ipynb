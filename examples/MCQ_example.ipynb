{
 "cells": [
  {
   "cell_type": "code",
   "execution_count": 27,
   "id": "f551e6a2",
   "metadata": {},
   "outputs": [],
   "source": [
    "# trys to catch if notebook is run within the browser\n",
    "from IPython import get_ipython\n",
    "if get_ipython().__class__.__name__ == 'Interpreter':\n",
    "    import piplite\n",
    "    \n",
    "    await piplite.install('matplotlib')\n",
    "    print('matlplotlib installed')\n",
    "\n",
    "\n",
    "    await piplite.install('widget_code_input')\n",
    "    print('widget_code_input installed')\n",
    "\n",
    "\n",
    "    await piplite.install('https://agoscinski.github.io/scicode-widgets-wheels/dist/scwidgets-0.0.0.dev0-py3-none-any.whl')\n",
    "    print('scicode-widgets installed')\n"
   ]
  },
  {
   "cell_type": "code",
   "execution_count": 28,
   "id": "e306daab",
   "metadata": {},
   "outputs": [],
   "source": [
    "from scwidgets import (PyplotOutput, TextareaAnswer, AnswerRegistry, MCQBox)\n",
    "from ipywidgets import Layout\n",
    "import numpy as np\n",
    "import matplotlib.pyplot as plt\n"
   ]
  },
  {
   "cell_type": "code",
   "execution_count": 29,
   "id": "de658787",
   "metadata": {
    "tags": []
   },
   "outputs": [
    {
     "data": {
      "application/vnd.jupyter.widget-view+json": {
       "model_id": "57829683c8b24ca589edc9d5f7f967b2",
       "version_major": 2,
       "version_minor": 0
      },
      "text/plain": [
       "AnswerRegistry(children=(Output(layout=Layout(height='99%', width='99%')), HBox(children=(Dropdown(description…"
      ]
     },
     "metadata": {},
     "output_type": "display_data"
    }
   ],
   "source": [
    "answer_registry = AnswerRegistry()\n",
    "display(answer_registry)"
   ]
  },
  {
   "cell_type": "markdown",
   "id": "e73be591-38c0-46d0-afad-5255e82a43de",
   "metadata": {},
   "source": [
    "## Multiple choice example"
   ]
  },
  {
   "cell_type": "markdown",
   "id": "688fe5e0",
   "metadata": {},
   "source": [
    "**Question** How many edges does a triangle have?"
   ]
  },
  {
   "cell_type": "code",
   "execution_count": 30,
   "id": "0c16f60c",
   "metadata": {
    "tags": []
   },
   "outputs": [
    {
     "data": {
      "application/vnd.jupyter.widget-view+json": {
       "model_id": "1006a460456f46e5a51164efa16cfd3e",
       "version_major": 2,
       "version_minor": 0
      },
      "text/plain": [
       "MCQBox(children=(CodeDemoBox(children=(Checkbox(value=False, description='3', layout=Layout(width='50%'), styl…"
      ]
     },
     "metadata": {},
     "output_type": "display_data"
    }
   ],
   "source": [
    "choices = ['3','5','4','2']\n",
    "\n",
    "secret_answer_qcm = MCQBox(choices)\n",
    "answer_registry.register_answer_widget(\"secret_answer_qcm\", secret_answer_qcm)\n",
    "display(secret_answer_qcm)"
   ]
  }
 ],
 "metadata": {
  "kernelspec": {
   "display_name": "Python 3 (ipykernel)",
   "language": "python",
   "name": "python3"
  },
  "language_info": {
   "codemirror_mode": {
    "name": "ipython",
    "version": 3
   },
   "file_extension": ".py",
   "mimetype": "text/x-python",
   "name": "python",
   "nbconvert_exporter": "python",
   "pygments_lexer": "ipython3",
   "version": "3.10.12"
  }
 },
 "nbformat": 4,
 "nbformat_minor": 5
}
