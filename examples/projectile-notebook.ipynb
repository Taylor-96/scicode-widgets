{
 "cells": [
  {
   "cell_type": "markdown",
   "metadata": {},
   "source": [
    "# Exercise: computing the distance at which a projectile will hit the ground\n",
    "\n",
    "\n",
    "In this exercise, you are given three parameters, defining the initial conditions at which a projectile is launched. \n",
    "In particular, you are given in input:\n",
    "\n",
    "- the height $h$ above the ground from which the projectile is launched\n",
    "- the two components (horizontal $v_x$ and vertical $v_y$) of the velocity, $\\vec v = (v_x, v_y)$ at which the projectile is launched\n",
    "\n",
    "![Simple schematic](./explanation.png)\n",
    "\n",
    "## Task\n",
    "**Your task is to write a python function that, given these three parameters, computes the horizontal position $D$ at which the projectile will hit the ground.**\n",
    "\n",
    "## How to test the results\n",
    "To test your function, you can move the sliders below that determine the initial conditions of the projectile.\n",
    "\n",
    "A real-time visualization will show the correct solution for the problem (solid curve), where the launch point is marked by a black dot and the correct hitting point by a black cross.\n",
    "\n",
    "You will also see the result of your proposed solution as a large red circle. Finally, You can inspect possible errors of your function by opening the tab \"Results of the validation of your function\"."
   ]
  },
  {
   "cell_type": "code",
   "execution_count": 35,
   "metadata": {},
   "outputs": [],
   "source": [
    "%matplotlib widget\n",
    "import numpy as np\n",
    "import pylab as pl\n",
    "# import sys\n",
    "\n",
    "# import tabulate\n",
    "from ipywidgets import Label, Button, Output, FloatSlider, HBox, VBox, Layout, HTML, Accordion\n",
    "from widget_code_input import WidgetCodeInput\n",
    "from scwidgets import (AnswerRegistry, TextareaAnswer, CodeDemo,\n",
    "                       ParametersBox, PyplotOutput, ClearedOutput,\n",
    "                       AnimationOutput,CheckRegistry,Answer)\n",
    "from IPython.display import display"
   ]
  },
  {
   "cell_type": "code",
   "execution_count": 36,
   "metadata": {},
   "outputs": [],
   "source": [
    "#### AVOID folding of output cell "
   ]
  },
  {
   "cell_type": "code",
   "execution_count": 37,
   "metadata": {},
   "outputs": [
    {
     "data": {
      "text/html": [
       "<style>\n",
       ".jp-CodeCell.jp-mod-outputsScrolled .jp-Cell-outputArea  {  height:auto !important;\n",
       "    max-height: 5000px; overflow-y: hidden }\n",
       "</style>\n",
       "<style>\n",
       ".output_wrapper, .output {\n",
       "    height:auto !important;\n",
       "    max-height:4000px;  /* your desired max-height here */\n",
       "}\n",
       ".output_scroll {\n",
       "    box-shadow:none !important;\n",
       "    webkit-box-shadow:none !important;\n",
       "}\n",
       "</style>\n"
      ],
      "text/plain": [
       "<IPython.core.display.HTML object>"
      ]
     },
     "metadata": {},
     "output_type": "display_data"
    }
   ],
   "source": [
    "%%html\n",
    "<style>\n",
    ".jp-CodeCell.jp-mod-outputsScrolled .jp-Cell-outputArea  {  height:auto !important;\n",
    "    max-height: 5000px; overflow-y: hidden }\n",
    "</style>\n",
    "<style>\n",
    ".output_wrapper, .output {\n",
    "    height:auto !important;\n",
    "    max-height:4000px;  /* your desired max-height here */\n",
    "}\n",
    ".output_scroll {\n",
    "    box-shadow:none !important;\n",
    "    webkit-box-shadow:none !important;\n",
    "}\n",
    "</style>"
   ]
  },
  {
   "cell_type": "markdown",
   "metadata": {},
   "source": [
    "Please enter your name as `SurnameName` to initialize the answer file. "
   ]
  },
  {
   "cell_type": "code",
   "execution_count": 38,
   "metadata": {},
   "outputs": [
    {
     "data": {
      "application/vnd.jupyter.widget-view+json": {
       "model_id": "da42882ba2f04c22b521896b568f0862",
       "version_major": 2,
       "version_minor": 0
      },
      "text/plain": [
       "AnswerRegistry(children=(Output(layout=Layout(height='99%', width='99%')), HBox(children=(Dropdown(description…"
      ]
     },
     "metadata": {},
     "output_type": "display_data"
    }
   ],
   "source": [
    "check_registry = CheckRegistry() \n",
    "answer_registry = AnswerRegistry(prefix=\"projectile-example\")\n",
    "display(answer_registry)"
   ]
  },
  {
   "cell_type": "markdown",
   "metadata": {},
   "source": [
    "You can write here general comments you may have on this module. "
   ]
  },
  {
   "cell_type": "code",
   "execution_count": 39,
   "metadata": {},
   "outputs": [
    {
     "data": {
      "application/vnd.jupyter.widget-view+json": {
       "model_id": "77c2f2b7f60a4595aa50a4df03b7c139",
       "version_major": 2,
       "version_minor": 0
      },
      "text/plain": [
       "TextareaAnswer(children=(Textarea(value='General comments on this example', layout=Layout(width='99%')), VBox(…"
      ]
     },
     "metadata": {},
     "output_type": "display_data"
    }
   ],
   "source": [
    "example_summary = TextareaAnswer(\"General comments on this example\")\n",
    "answer_registry.register_answer_widget(\"example-summary\", example_summary)\n",
    "display(example_summary)"
   ]
  },
  {
   "cell_type": "code",
   "execution_count": 40,
   "metadata": {},
   "outputs": [],
   "source": [
    "# Value of the vertical (downwards) acceleration\n",
    "g = 9.81 # m/s^2"
   ]
  },
  {
   "cell_type": "code",
   "execution_count": 41,
   "metadata": {},
   "outputs": [],
   "source": [
    "code_widget = WidgetCodeInput(\n",
    "    code_theme='monokai',\n",
    "    function_name=\"get_hit_coordinate\", \n",
    "    function_parameters=\"vertical_position, horizontal_v, vertical_v, g={}\".format(g),\n",
    "    docstring=\"\"\"\n",
    "A function to compute the hit coordinate of a projectile \n",
    "on the ground, knowing the initial launch parameters.\n",
    "\n",
    ":param vertical_position: launch vertical position [m]\n",
    ":param horizontal_v: launch horizontal position [m/s]\n",
    ":param vertical_v: launch vertical position [m/s] \n",
    "    (positive values means upward velocity)\n",
    ":param g: the vertical (downwards) acceleration (default: Earth's gravity)\n",
    "    \n",
    ":return: the position at which the projectile will hit the ground [m]\n",
    "\"\"\",\n",
    "    function_body=\"\"\"\n",
    "# Input here your solution\\n# After changing the function, move one of the sliders to validate your function\n",
    "import math\n",
    "return horizontal_v * (vertical_v + math.sqrt(vertical_v**2 + 2. * g * vertical_position)) / g           \n",
    "    \"\"\")\n",
    "# display(code_widget)\n",
    "\n",
    "\n",
    "\n",
    "## The solution:\n",
    "# import math\n",
    "# return horizontal_v * (vertical_v + math.sqrt(vertical_v**2 + 2. * g * vertical_position)) / g"
   ]
  },
  {
   "cell_type": "code",
   "execution_count": 42,
   "metadata": {},
   "outputs": [],
   "source": [
    "def trajectory(t, vertical_position, horizontal_v, vertical_v, g):\n",
    "    \"\"\"\n",
    "    Return the coordinates (x, y) at time t\n",
    "    \"\"\"\n",
    "    # We define the initial x coordinate to be zero\n",
    "    x0 = 0\n",
    "        \n",
    "    x = x0 + horizontal_v * t\n",
    "    y = -0.5 * g* t**2 + vertical_v * t + vertical_position\n",
    "    \n",
    "    return x, y    \n",
    "\n",
    "def hit_conditions(vertical_position, horizontal_v, vertical_v, g):\n",
    "    \"\"\"\n",
    "    Return (t, D), where t is the time at which the ground is hit, and D \n",
    "    is the distance at which the projectile hits the ground\n",
    "    \"\"\"\n",
    "    \n",
    "    # We define the initial x coordinate to be zero\n",
    "    x0 = 0\n",
    "    \n",
    "    # x = x0 + horizontal_v * t => t = (x-x0) / horizontal_v\n",
    "    # y = -0.5 * g* t**2 + vertical_v * t + vertical_position => \n",
    "    #\n",
    "    # y == 0 => \n",
    "    a = -0.5 * g\n",
    "    b = vertical_v\n",
    "    c = vertical_position\n",
    "    \n",
    "    # the two solutions; I want the solution with positive t, \n",
    "    # that will in any case be t1, because\n",
    "    # t1 > t2 for any value of a, b, c (since a < 0)\n",
    "    t1 = (-b - np.sqrt(b**2 - 4 * a * c)) / (2. * a)\n",
    "    #t2 = (-b + np.sqrt(b**2 - 4 * a * c)) / (2. * a)\n",
    "    \n",
    "    t = t1\n",
    "    \n",
    "    D = x0 + horizontal_v * t\n",
    "    \n",
    "    return t, D\n"
   ]
  },
  {
   "cell_type": "code",
   "execution_count": 43,
   "metadata": {},
   "outputs": [],
   "source": [
    "\n",
    "def replot(vertical_position, horizontal_v, vertical_v):\n",
    "    global the_plot, g\n",
    "    \n",
    "    # Compute correct values\n",
    "    t_hit, D = hit_conditions(vertical_position, horizontal_v, vertical_v, g)\n",
    "    t_array = np.linspace(0,t_hit, 100)\n",
    "    x_array, y_array = trajectory(t_array, vertical_position, horizontal_v, vertical_v, g)\n",
    "\n",
    "    # Clean up the graph\n",
    "    the_plot.axes.clear()\n",
    "    # Plot orrect curves and points\n",
    "    the_plot.plot([0], [vertical_position], 'ok')\n",
    "    the_plot.plot([D], [0], 'xk')    \n",
    "    the_plot.plot(x_array, y_array, '-b')\n",
    "\n",
    "    \n",
    "    ## (Try to) plot user value\n",
    "    user_value = None\n",
    "    try:\n",
    "        user_value = get_user_value()\n",
    "    except Exception:\n",
    "        # Just a guard not to break the visualization, we should not end up here\n",
    "        pass \n",
    "    try:\n",
    "        if user_value is not None:\n",
    "            the_plot.plot([user_value], [0], 'or')    \n",
    "    except Exception:\n",
    "        # We might end up here if the function does not return a float value\n",
    "        pass \n",
    "\n",
    "    the_plot.axhline(0, color='gray')\n",
    "    # Set zoom to fixed value\n",
    "    the_plot.set_xlim([-30, 30])\n",
    "    the_plot.set_ylim([-1, 16])\n",
    "    \n",
    "    # Redraw\n",
    "    the_figure.canvas.draw()\n",
    "    the_figure.canvas.flush_events()"
   ]
  },
  {
   "cell_type": "code",
   "execution_count": 44,
   "metadata": {},
   "outputs": [
    {
     "data": {
      "application/vnd.jupyter.widget-view+json": {
       "model_id": "b68645015aee4bf38269d4a005bfad98",
       "version_major": 2,
       "version_minor": 0
      },
      "text/plain": [
       "HBox(children=(Output(),))"
      ]
     },
     "metadata": {},
     "output_type": "display_data"
    },
    {
     "data": {
      "application/vnd.jupyter.widget-view+json": {
       "model_id": "2d005a5e730e4d1aa08937ed77d4a8cd",
       "version_major": 2,
       "version_minor": 0
      },
      "text/plain": [
       "CodeDemo(children=(HBox(children=(CodeDemoBox(_dom_classes=('scwidget-box', 'scwidget-box--unchecked')), CodeD…"
      ]
     },
     "metadata": {},
     "output_type": "display_data"
    },
    {
     "data": {
      "application/vnd.jupyter.widget-view+json": {
       "model_id": "82a9d8289e324f05b9144c57ead9bc3f",
       "version_major": 2,
       "version_minor": 0
      },
      "image/png": "[encoded data removed]",
      "text/html": [
       "\n",
       "            <div style=\"display: inline-block;\">\n",
       "                <div class=\"jupyter-widgets widget-label\" style=\"text-align: center;\">\n",
       "                    Figure\n",
       "                </div>\n",
       "                <img src='data:image/png;base64,iVBORw0KGgoAAAANSUhEUgAAAZAAAAEsCAYAAADtt+XCAAAAOXRFWHRTb2Z0d2FyZQBNYXRwbG90bGliIHZlcnNpb24zLjYuMywgaHR0cHM6Ly9tYXRwbG90bGliLm9yZy/P9b71AAAACXBIWXMAAA9hAAAPYQGoP6dpAAAZPklEQVR4nO3df1DVVf7H8RegXHSSq8lyQbrFattPSwySRXOadu7GjA67/LHFZgPEVG6FTXlnS0mFzBK3bzrsJOZomu1MLrZNNk0y9IONaSp2nFBmbP3RGBpu073KtnJdLFDu+f7ReFsCTA4fuJDPx8z9g9Pnc+/7qN3n3F/cGGOMEQAAAxQb7QEAAKMTAQEAWCEgAAArBAQAYIWAAACsEBAAgBUCAgCwQkAAAFYICADACgEBAFghIAAAKwQEAGCFgAAArBAQAIAVAgIAsEJAAABWCAgAwAoBAQBYISAAACsEBABghYAAAKwQEACAFQICALBCQAAAVggIAMAKAQEAWCEgAAArBAQAYIWAAACsEBAAgBUCAgCw4nhAPvjgA+Xl5WnKlCmKiYnRG2+88aPnNDQ06KabbpLL5dKVV16pbdu2OT0WAMBhjgeko6NDM2bMUHV19QUdf+TIEc2fP1+33Xabmpub9eijj+q+++7T22+/7fRoAAAHxRhjzJBdeUyMdu7cqfz8/H6PWbJkiXbt2qVPP/00svb73/9eJ0+eVF1d3VCNBgAYpDHRHqCxsVE+n6/HWm5urh599NF+z+ns7FRnZ2fk53A4rK+//lqTJ09WTEzMUI0KAMPGGKNTp05pypQpio0dmS9XRz0ggUBAHo+nx5rH41EoFNI333yjcePG9TqnsrJSK1euHK4RASBqjh07pssuuyzaY/Qp6gGxUVZWJr/fH/m5vb1dl19+uY4dO6bExMQoTgYAzgiFQvJ6vZowYUK0R+lX1AOSkpKiYDDYYy0YDCoxMbHPRx+S5HK55HK5eq0nJiYSEAA/KSP5afmoP7GWk5Oj+vr6HmvvvvuucnJyojQRAOBCOB6Q//73v2publZzc7Ok796m29zcrNbWVknfPf1UVFQUOf6BBx5QS0uLHn/8cR08eFAbNmzQq6++qsWLFzs9GgDAQY4H5JNPPtHMmTM1c+ZMSZLf79fMmTNVXl4uSfrqq68iMZGkn//859q1a5feffddzZgxQ2vXrtWLL76o3Nxcp0cDADhoSD8HMlxCoZDcbrfa29t5DQTAT8JouF+L+msgAIDRiYAAAKwQEACAFQICALBCQAAAVggIAMAKAQEAWCEgAAArBAQAYIWAAACsEBAAgBUCAgCwQkAAAFYICADACgEBAFghIAAAKwQEAGCFgAAArBAQAIAVAgIAsEJAAABWCAgAwAoBAQBYISAAACsEBABghYAAAKwQEACAFQICALBCQAAAVggIAMAKAQEAWCEgAAArBAQAYIWAAACsEBAAgJUhCUh1dbXS09OVkJCg7Oxs7d69+7zHV1VV6eqrr9a4cePk9Xq1ePFiffvtt0MxGgDAIY4HZMeOHfL7/aqoqNCePXs0Y8YM5ebm6vjx430ev337di1dulQVFRU6cOCAtmzZoh07duiJJ55wejQAgIMcD8i6det0//33q6SkRNddd502btyo8ePHa+vWrX0e//HHH2vOnDlasGCB0tPTdfvtt+uuu+760UctAIDocjQgXV1dampqks/n+/4GYmPl8/nU2NjY5zmzZ89WU1NTJBgtLS2qra3VvHnz+r2dzs5OhUKhHhcAwPAa4+SVtbW1qbu7Wx6Pp8e6x+PRwYMH+zxnwYIFamtr0y233CJjjM6ePasHHnjgvE9hVVZWauXKlU6ODgAYoKi/C6uhoUGrV6/Whg0btGfPHr3++uvatWuXVq1a1e85ZWVlam9vj1yOHTs2jBMDACSHH4EkJSUpLi5OwWCwx3owGFRKSkqf56xYsUKFhYW67777JEk33HCDOjo6tHDhQi1btkyxsb0b53K55HK5nBwdADBAjj4CiY+PV2Zmpurr6yNr4XBY9fX1ysnJ6fOc06dP94pEXFycJMkY4+R4AAAHOfoIRJL8fr+Ki4uVlZWlWbNmqaqqSh0dHSopKZEkFRUVKS0tTZWVlZKkvLw8rVu3TjNnzlR2drYOHz6sFStWKC8vLxISAMDI43hACgoKdOLECZWXlysQCCgjI0N1dXWRF9ZbW1t7POJYvny5YmJitHz5cn355Zf62c9+pry8PD3zzDNOjwYAcFCM+Qk8TxQKheR2u9Xe3q7ExMRojwMAgzYa7tei/i4sAMDoREAAAFYICADACgEBAFghIAAAKwQEAGCFgAAArBAQAIAVAgIAsEJAAABWCAgAwAoBAQBYISAAACsEBABghYAAAKwQEACAFQICALBCQAAAVggIAMAKAQEAWCEgAAArBAQAYIWAAACsEBAAgBUCAgCwQkAAAFYICADACgEBAFghIAAAKwQEAGCFgAAArBAQAIAVAgIAsEJAAABWCAgAwMqQBKS6ulrp6elKSEhQdna2du/efd7jT548qdLSUqWmpsrlcumqq65SbW3tUIwGAHDIGKevcMeOHfL7/dq4caOys7NVVVWl3NxcHTp0SMnJyb2O7+rq0q9//WslJyfrtddeU1pamr744gtNnDjR6dEAAA6KMcYYJ68wOztbN998s9avXy9JCofD8nq9evjhh7V06dJex2/cuFH/93//p4MHD2rs2LFWtxkKheR2u9Xe3q7ExMRBzQ8AI8FouF9z9Cmsrq4uNTU1yefzfX8DsbHy+XxqbGzs85w333xTOTk5Ki0tlcfj0fTp07V69Wp1d3f3ezudnZ0KhUI9LgCA4eVoQNra2tTd3S2Px9Nj3ePxKBAI9HlOS0uLXnvtNXV3d6u2tlYrVqzQ2rVr9fTTT/d7O5WVlXK73ZGL1+t1chsAgAsQ9XdhhcNhJScna9OmTcrMzFRBQYGWLVumjRs39ntOWVmZ2tvbI5djx44N48QAAMnhF9GTkpIUFxenYDDYYz0YDColJaXPc1JTUzV27FjFxcVF1q699loFAgF1dXUpPj6+1zkul0sul8vJ0QEAA+ToI5D4+HhlZmaqvr4+shYOh1VfX6+cnJw+z5kzZ44OHz6scDgcWfvss8+UmpraZzwAACOD409h+f1+bd68WS+//LIOHDigBx98UB0dHSopKZEkFRUVqaysLHL8gw8+qK+//lqPPPKIPvvsM+3atUurV69WaWmp06MBABzk+OdACgoKdOLECZWXlysQCCgjI0N1dXWRF9ZbW1sVG/t9t7xer95++20tXrxYN954o9LS0vTII49oyZIlTo8GAHCQ458DiYbR8H5pABiI0XC/FvV3YQEARicCAgCwQkAAAFYICADACgEBAFghIAAAKwQEAGCFgAAArBAQAIAVAgIAsEJAAABWCAgAwAoBAQBYISAAACsEBABghYAAAKwQEACAFQICALBCQAAAVggIAMAKAQEAWCEgAAArBAQAYIWAAACsEBAAgBUCAgCwQkAAAFYICADACgEBAFghIAAAKwQEAGCFgAAArBAQAIAVAgIAsEJAAABWhiQg1dXVSk9PV0JCgrKzs7V79+4LOq+mpkYxMTHKz88firEAAA5yPCA7duyQ3+9XRUWF9uzZoxkzZig3N1fHjx8/73lHjx7VH//4R82dO9fpkQAAQ8DxgKxbt07333+/SkpKdN1112njxo0aP368tm7d2u853d3duvvuu7Vy5UpNnTrV6ZEAAEPA0YB0dXWpqalJPp/v+xuIjZXP51NjY2O/5z311FNKTk7Wvffe6+Q4AIAhNMbJK2tra1N3d7c8Hk+PdY/Ho4MHD/Z5zocffqgtW7aoubn5gm+ns7NTnZ2dkZ9DoZDVvAAAe1F9F9apU6dUWFiozZs3Kykp6YLPq6yslNvtjly8Xu8QTgkA6Iujj0CSkpIUFxenYDDYYz0YDColJaXX8Z9//rmOHj2qvLy8yFo4HP5usDFjdOjQIU2bNq3XeWVlZfL7/ZGfQ6EQEQGAYeZoQOLj45WZman6+vrIW3HD4bDq6+u1aNGiXsdfc8012rdvX4+15cuX69SpU/rzn//cbxRcLpdcLpeTowMABsjRgEiS3+9XcXGxsrKyNGvWLFVVVamjo0MlJSWSpKKiIqWlpamyslIJCQmaPn16j/MnTpwoSb3WAQAji+MBKSgo0IkTJ1ReXq5AIKCMjAzV1dVFXlhvbW1VbCwfgAeA0S7GGGOiPcRghUIhud1utbe3KzExMdrjAMCgjYb7NR4KAACsEBAAgBUCAgCwQkAAAFYICADACgEBAFghIAAAKwQEAGCFgAAArBAQAIAVAgIAsEJAAABWCAgAwAoBAQBYISAAACsEBABghYAAAKwQEACAFQICALBCQAAAVggIAMAKAQEAWCEgAAArBAQAYIWAAACsEBAAgBUCAgCwQkAAAFYICADACgEBAFghIAAAKwQEAGCFgAAArBAQAIAVAgIAsDIkAamurlZ6eroSEhKUnZ2t3bt393vs5s2bNXfuXE2aNEmTJk2Sz+c77/EAgJHB8YDs2LFDfr9fFRUV2rNnj2bMmKHc3FwdP368z+MbGhp011136f3331djY6O8Xq9uv/12ffnll06PBgBwUIwxxjh5hdnZ2br55pu1fv16SVI4HJbX69XDDz+spUuX/uj53d3dmjRpktavX6+ioqILus1QKCS326329nYlJiYOan4AGAlGw/2ao49Aurq61NTUJJ/P9/0NxMbK5/OpsbHxgq7j9OnTOnPmjC699FInRwMAOGyMk1fW1tam7u5ueTyeHusej0cHDx68oOtYsmSJpkyZ0iNCP9TZ2anOzs7Iz6FQyG5gAIC1EfUurDVr1qimpkY7d+5UQkJCv8dVVlbK7XZHLl6vdxinBABIDgckKSlJcXFxCgaDPdaDwaBSUlLOe+5zzz2nNWvW6J133tGNN9543mPLysrU3t4euRw7dmzQswMABsbRgMTHxyszM1P19fWRtXA4rPr6euXk5PR73rPPPqtVq1aprq5OWVlZP3o7LpdLiYmJPS4AgOHl6GsgkuT3+1VcXKysrCzNmjVLVVVV6ujoUElJiSSpqKhIaWlpqqyslCT96U9/Unl5ubZv36709HQFAgFJ0iWXXKJLLrnE6fEAAA5xPCAFBQU6ceKEysvLFQgElJGRobq6usgL662trYqN/f6BzwsvvKCuri797ne/63E9FRUVevLJJ50eDwDgEMc/BxINo+H90gAwEKPhfm1EvQsLADB6EBAAgBUCAgCwQkAAAFYICADACgEBAFghIAAAKwQEAGCFgAAArBAQAIAVAgIAsEJAAABWCAgAwAoBAQBYISAAACsEBABghYAAAKwQEACAFQICALBCQAAAVggIAMAKAQEAWCEgAAArBAQAYIWAAACsEBAAgBUCAgCwQkAAAFYICADACgEBAFghIAAAKwQEAGCFgAAArBAQAIAVAgIAsDIkAamurlZ6eroSEhKUnZ2t3bt3n/f4v/3tb7rmmmuUkJCgG264QbW1tUMxFgDAQY4HZMeOHfL7/aqoqNCePXs0Y8YM5ebm6vjx430e//HHH+uuu+7Svffeq7179yo/P1/5+fn69NNPnR4NAOCgGGOMcfIKs7OzdfPNN2v9+vWSpHA4LK/Xq4cfflhLly7tdXxBQYE6Ojr01ltvRdZ++ctfKiMjQxs3bryg2wyFQnK73Wpvb1diYqIzGwGAKBoN92uOPgLp6upSU1OTfD7f9zcQGyufz6fGxsY+z2lsbOxxvCTl5ub2ezwAYGQY4+SVtbW1qbu7Wx6Pp8e6x+PRwYMH+zwnEAj0eXwgEOj3djo7O9XZ2Rn5ub29XdJ3xQaAn4Jz92cOP0nkKEcDMlwqKyu1cuXKXuterzcK0wDA0Pn3v/8tt9sd7TH65GhAkpKSFBcXp2Aw2GM9GAwqJSWlz3NSUlIGdLwklZWVye/3R34+efKkrrjiCrW2to7YP+ihEAqF5PV6dezYsRH7HOlQYN/s+2LQ3t6uyy+/XJdeemm0R+mXowGJj49XZmam6uvrlZ+fL+m7F9Hr6+u1aNGiPs/JyclRfX29Hn300cjau+++q5ycnH5vx+VyyeVy9Vp3u90X1T+wcxITE9n3RYR9X1xiY0fux/UcfwrL7/eruLhYWVlZmjVrlqqqqtTR0aGSkhJJUlFRkdLS0lRZWSlJeuSRR3Trrbdq7dq1mj9/vmpqavTJJ59o06ZNTo8GAHCQ4wEpKCjQiRMnVF5erkAgoIyMDNXV1UVeKG9tbe1R1NmzZ2v79u1avny5nnjiCf3iF7/QG2+8oenTpzs9GgDAQUPyIvqiRYv6fcqqoaGh19odd9yhO+64w/r2XC6XKioq+nxa66eMfbPviwH7Hrn7dvyDhACAi8PIfXUGADCiERAAgBUCAgCwQkAAAFZGTUAu1u8YGci+N2/erLlz52rSpEmaNGmSfD7fj/45jVQD/fs+p6amRjExMZEPso42A933yZMnVVpaqtTUVLlcLl111VWj8t/6QPddVVWlq6++WuPGjZPX69XixYv17bffDtO0zvjggw+Ul5enKVOmKCYmRm+88caPntPQ0KCbbrpJLpdLV155pbZt2zbkc56XGQVqampMfHy82bp1q/nnP/9p7r//fjNx4kQTDAb7PP6jjz4ycXFx5tlnnzX79+83y5cvN2PHjjX79u0b5skHZ6D7XrBggamurjZ79+41Bw4cMPfcc49xu93mX//61zBPPjgD3fc5R44cMWlpaWbu3Lnmt7/97fAM66CB7ruzs9NkZWWZefPmmQ8//NAcOXLENDQ0mObm5mGefHAGuu9XXnnFuFwu88orr5gjR46Yt99+26SmpprFixcP8+SDU1tba5YtW2Zef/11I8ns3LnzvMe3tLSY8ePHG7/fb/bv32+ef/55ExcXZ+rq6oZn4D6MioDMmjXLlJaWRn7u7u42U6ZMMZWVlX0ef+edd5r58+f3WMvOzjZ/+MMfhnROpw103z909uxZM2HCBPPyyy8P1YhDwmbfZ8+eNbNnzzYvvviiKS4uHpUBGei+X3jhBTN16lTT1dU1XCMOiYHuu7S01PzqV7/qseb3+82cOXOGdM6hdCEBefzxx83111/fY62goMDk5uYO4WTnN+KfwrpYv2PEZt8/dPr0aZ05c2ZE/zK2H7Ld91NPPaXk5GTde++9wzGm42z2/eabbyonJ0elpaXyeDyaPn26Vq9ere7u7uEae9Bs9j179mw1NTVFnuZqaWlRbW2t5s2bNywzR8tIvF8b8b/Ofbi+Y2Sksdn3Dy1ZskRTpkzp9Y9uJLPZ94cffqgtW7aoubl5GCYcGjb7bmlp0d///nfdfffdqq2t1eHDh/XQQw/pzJkzqqioGI6xB81m3wsWLFBbW5tuueUWGWN09uxZPfDAA3riiSeGY+So6e9+LRQK6ZtvvtG4ceOGfaYR/wgEdtasWaOamhrt3LlTCQkJ0R5nyJw6dUqFhYXavHmzkpKSoj3OsAqHw0pOTtamTZuUmZmpgoICLVu27IK/Cnq0amho0OrVq7Vhwwbt2bNHr7/+unbt2qVVq1ZFe7SLzoh/BDJc3zEy0tjs+5znnntOa9as0Xvvvacbb7xxKMd03ED3/fnnn+vo0aPKy8uLrIXDYUnSmDFjdOjQIU2bNm1oh3aAzd93amqqxo4dq7i4uMjatddeq0AgoK6uLsXHxw/pzE6w2feKFStUWFio++67T5J0ww03qKOjQwsXLtSyZctG9K8/H4z+7tcSExOj8uhDGgWPQP73O0bOOfcdI/19Z8i57xj5Xz/2HSMjjc2+JenZZ5/VqlWrVFdXp6ysrOEY1VED3fc111yjffv2qbm5OXL5zW9+o9tuu03Nzc2j5lsqbf6+58yZo8OHD0eCKUmfffaZUlNTR0U8JLt9nz59ulckzkXU/IR/td+IvF+L2sv3A1BTU2NcLpfZtm2b2b9/v1m4cKGZOHGiCQQCxhhjCgsLzdKlSyPHf/TRR2bMmDHmueeeMwcOHDAVFRWj9m28A9n3mjVrTHx8vHnttdfMV199FbmcOnUqWluwMtB9/9BofRfWQPfd2tpqJkyYYBYtWmQOHTpk3nrrLZOcnGyefvrpaG3BykD3XVFRYSZMmGD++te/mpaWFvPOO++YadOmmTvvvDNaW7By6tQps3fvXrN3714jyaxbt87s3bvXfPHFF8YYY5YuXWoKCwsjx597G+9jjz1mDhw4YKqrq3kb74V6/vnnzeWXX27i4+PNrFmzzD/+8Y/If7v11ltNcXFxj+NfffVVc9VVV5n4+Hhz/fXXm127dg3zxM4YyL6vuOIKI6nXpaKiYvgHH6SB/n3/r9EaEGMGvu+PP/7YZGdnG5fLZaZOnWqeeeYZc/bs2WGeevAGsu8zZ86YJ5980kybNs0kJCQYr9drHnroIfOf//xn+AcfhPfff7/P/1/P7bW4uNjceuutvc7JyMgw8fHxZurUqeall14a9rn/F7/OHQBgZcS/BgIAGJkICADACgEBAFghIAAAKwQEAGCFgAAArBAQAIAVAgL04+jRo4qJiVFMTIwyMjIGfX3nrmvixImDvi5gJCAgwI947733ev0OIhtfffWVqqqqBj8QMEIQEOBHTJ48WZMnTx709aSkpMjtdjswETAyEBBcFP7yl79o8uTJ6uzs7LGen5+vwsLCAV3XPffco/z8fK1evVoej0cTJ07UU089pbNnz+qxxx7TpZdeqssuu0wvvfSSk1sARpz/B7s88cF4o8ejAAAAAElFTkSuQmCC' width=400.0/>\n",
       "            </div>\n",
       "        "
      ],
      "text/plain": [
       "Canvas(toolbar=Toolbar(toolitems=[('Home', 'Reset original view', 'home', 'home'), ('Back', 'Back to previous …"
      ]
     },
     "metadata": {},
     "output_type": "display_data"
    }
   ],
   "source": [
    "def recompute(e):\n",
    "    global the_plot, g, traj_parbox\n",
    "    \n",
    "    if e is not None:\n",
    "        if e['type'] != 'change' or e['name'] not in ['value', 'function_body']:\n",
    "            return     \n",
    "    replot(traj_parbox.value['vpos'],traj_parbox.value['hvel'], traj_parbox.value['vvel'],\n",
    "    )\n",
    "    \n",
    "    # Print info on the \"correctness\" of the user's function\n",
    "#     check_user_value()\n",
    "    \n",
    "    \n",
    "    \n",
    "plot_box = Output()\n",
    "display(HBox([plot_box]))    \n",
    "\n",
    "with plot_box:\n",
    "    the_figure = pl.figure(figsize=(4,3))\n",
    "    the_plot = the_figure.add_subplot(1,1,1)\n",
    "    the_plot.set_xlabel(\"x [m]\")\n",
    "    the_plot.set_xlabel(\"y [m]\")\n",
    "\n",
    "traj_parbox = ParametersBox(vpos=(6,0,10,1,r\"Vertical position [m]\"), hvel=(5,-10,10,1,r\"Horizontal velocity [m/s]\"), vvel=(3,-10,10,1,r\"Vertical velocity [m/s]\"))\n",
    "\n",
    "\n",
    "def ex01_updater(hpos,hvel,vvel,code_input, visualizers):\n",
    "    d = code_widget.get_function_object()(traj_parbox.value['vpos'],traj_parbox.value['hvel'], traj_parbox.value['vvel'])\n",
    "    _ = recompute(None)\n",
    "\n",
    "    if d != None:\n",
    "        plot_box = visualizers[0]\n",
    "        _ = recompute(None)\n",
    "\n",
    "\n",
    "ex01_code_demo = CodeDemo(\n",
    "            input_parameters_box=traj_parbox,\n",
    "            code_input= code_widget,\n",
    "            check_registry=check_registry,\n",
    "            visualizers = [plot_box],\n",
    "            update_visualizers = ex01_updater)\n",
    "\n",
    "\n",
    "# reference displacements for a range of initial parameters\n",
    "ref_val=[]\n",
    "ref_dists=[]\n",
    "test_values_vpos = range(1,7)\n",
    "test_values_vx = range(-2,3)\n",
    "test_values_vy = range(-2,3)            \n",
    "for test_vpos in test_values_vpos:\n",
    "    for test_vx in test_values_vx:\n",
    "        for test_vy in test_values_vy:\n",
    "            correct_value = hit_conditions(vertical_position=test_vpos, \n",
    "                horizontal_v=test_vx,\n",
    "                vertical_v=test_vy,\n",
    "                g=g\n",
    "            )[1] # [1] because this gives D ([0] is instead t_hit)\n",
    "            ref_val.append({'vertical_position':test_vpos,'horizontal_v':test_vx,'vertical_v':test_vy,'g':9.81})\n",
    "            ref_dists.append(float(correct_value))\n",
    "\n",
    "\n",
    "\n",
    "check_registry.add_check(ex01_code_demo,\n",
    "                         inputs_parameters=ref_val,\n",
    "                         reference_outputs=ref_dists,\n",
    "                         fingerprint=None,\n",
    "                         equal = None\n",
    "                        )\n",
    "\n",
    "\n",
    "\n",
    "                        \n",
    "answer_registry.register_answer_widget(\"ex01-function\", ex01_code_demo)\n",
    "display(ex01_code_demo)\n"
   ]
  },
  {
   "cell_type": "code",
   "execution_count": 45,
   "metadata": {},
   "outputs": [],
   "source": [
    "# Perform the first recomputation (to create the plot)\n",
    "\n",
    "_ = recompute(None)"
   ]
  }
 ],
 "metadata": {
  "kernelspec": {
   "display_name": "Python 3 (ipykernel)",
   "language": "python",
   "name": "python3"
  },
  "language_info": {
   "codemirror_mode": {
    "name": "ipython",
    "version": 3
   },
   "file_extension": ".py",
   "mimetype": "text/x-python",
   "name": "python",
   "nbconvert_exporter": "python",
   "pygments_lexer": "ipython3",
   "version": "3.10.12"
  }
 },
 "nbformat": 4,
 "nbformat_minor": 4
}
